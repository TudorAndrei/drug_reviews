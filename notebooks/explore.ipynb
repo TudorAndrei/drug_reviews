{
 "cells": [
  {
   "cell_type": "code",
   "execution_count": 1,
   "metadata": {},
   "outputs": [],
   "source": [
    "import pandas as pd"
   ]
  },
  {
   "cell_type": "code",
   "execution_count": 2,
   "metadata": {},
   "outputs": [],
   "source": [
    "data = pd.read_csv(\"../data/raw/drugsComTest_raw.tsv\", sep=\"\\t\").drop(\"Unnamed: 0\", axis=1)"
   ]
  },
  {
   "cell_type": "code",
   "execution_count": 3,
   "metadata": {},
   "outputs": [],
   "source": [
    "data['review'] = data['review'].str.replace('&#039;',\"'\",)\n",
    "data['review'] = data['review'].str.replace('\"',\"\")"
   ]
  },
  {
   "cell_type": "code",
   "execution_count": 4,
   "metadata": {},
   "outputs": [
    {
     "data": {
      "text/html": [
       "<div>\n",
       "<style scoped>\n",
       "    .dataframe tbody tr th:only-of-type {\n",
       "        vertical-align: middle;\n",
       "    }\n",
       "\n",
       "    .dataframe tbody tr th {\n",
       "        vertical-align: top;\n",
       "    }\n",
       "\n",
       "    .dataframe thead th {\n",
       "        text-align: right;\n",
       "    }\n",
       "</style>\n",
       "<table border=\"1\" class=\"dataframe\">\n",
       "  <thead>\n",
       "    <tr style=\"text-align: right;\">\n",
       "      <th></th>\n",
       "      <th>drugName</th>\n",
       "      <th>condition</th>\n",
       "      <th>review</th>\n",
       "      <th>rating</th>\n",
       "      <th>date</th>\n",
       "      <th>usefulCount</th>\n",
       "    </tr>\n",
       "  </thead>\n",
       "  <tbody>\n",
       "    <tr>\n",
       "      <th>0</th>\n",
       "      <td>Mirtazapine</td>\n",
       "      <td>Depression</td>\n",
       "      <td>I've tried a few antidepressants over the year...</td>\n",
       "      <td>10.0</td>\n",
       "      <td>February 28, 2012</td>\n",
       "      <td>22</td>\n",
       "    </tr>\n",
       "    <tr>\n",
       "      <th>1</th>\n",
       "      <td>Mesalamine</td>\n",
       "      <td>Crohn's Disease, Maintenance</td>\n",
       "      <td>My son has Crohn's disease and has done very w...</td>\n",
       "      <td>8.0</td>\n",
       "      <td>May 17, 2009</td>\n",
       "      <td>17</td>\n",
       "    </tr>\n",
       "    <tr>\n",
       "      <th>2</th>\n",
       "      <td>Bactrim</td>\n",
       "      <td>Urinary Tract Infection</td>\n",
       "      <td>Quick reduction of symptoms</td>\n",
       "      <td>9.0</td>\n",
       "      <td>September 29, 2017</td>\n",
       "      <td>3</td>\n",
       "    </tr>\n",
       "    <tr>\n",
       "      <th>3</th>\n",
       "      <td>Contrave</td>\n",
       "      <td>Weight Loss</td>\n",
       "      <td>Contrave combines drugs that were used for alc...</td>\n",
       "      <td>9.0</td>\n",
       "      <td>March 5, 2017</td>\n",
       "      <td>35</td>\n",
       "    </tr>\n",
       "    <tr>\n",
       "      <th>4</th>\n",
       "      <td>Cyclafem 1 / 35</td>\n",
       "      <td>Birth Control</td>\n",
       "      <td>I have been on this birth control for one cycl...</td>\n",
       "      <td>9.0</td>\n",
       "      <td>October 22, 2015</td>\n",
       "      <td>4</td>\n",
       "    </tr>\n",
       "  </tbody>\n",
       "</table>\n",
       "</div>"
      ],
      "text/plain": [
       "          drugName                     condition  \\\n",
       "0      Mirtazapine                    Depression   \n",
       "1       Mesalamine  Crohn's Disease, Maintenance   \n",
       "2          Bactrim       Urinary Tract Infection   \n",
       "3         Contrave                   Weight Loss   \n",
       "4  Cyclafem 1 / 35                 Birth Control   \n",
       "\n",
       "                                              review  rating  \\\n",
       "0  I've tried a few antidepressants over the year...    10.0   \n",
       "1  My son has Crohn's disease and has done very w...     8.0   \n",
       "2                        Quick reduction of symptoms     9.0   \n",
       "3  Contrave combines drugs that were used for alc...     9.0   \n",
       "4  I have been on this birth control for one cycl...     9.0   \n",
       "\n",
       "                 date  usefulCount  \n",
       "0   February 28, 2012           22  \n",
       "1        May 17, 2009           17  \n",
       "2  September 29, 2017            3  \n",
       "3       March 5, 2017           35  \n",
       "4    October 22, 2015            4  "
      ]
     },
     "execution_count": 4,
     "metadata": {},
     "output_type": "execute_result"
    }
   ],
   "source": [
    "data.head()"
   ]
  },
  {
   "cell_type": "code",
   "execution_count": 5,
   "metadata": {},
   "outputs": [],
   "source": [
    "data = data[data['condition'].str.contains(\"users found this comment helpful\") == False]"
   ]
  },
  {
   "cell_type": "code",
   "execution_count": 8,
   "metadata": {},
   "outputs": [],
   "source": [
    "data.to_csv(\"../data/raw/drugs_train.csv\", index=False)"
   ]
  },
  {
   "cell_type": "code",
   "execution_count": 2,
   "metadata": {},
   "outputs": [],
   "source": [
    "data_ = pd.read_csv(\"../data/raw/drugs_train.csv\")"
   ]
  },
  {
   "cell_type": "markdown",
   "metadata": {},
   "source": [
    "# ML"
   ]
  },
  {
   "cell_type": "code",
   "execution_count": 3,
   "metadata": {},
   "outputs": [],
   "source": [
    "import time\n",
    "import pandas as pd\n",
    "import numpy as np\n",
    "from sklearn.svm import LinearSVC\n",
    "from sklearn.pipeline import Pipeline\n",
    "from sklearn.model_selection import StratifiedKFold\n",
    "from sklearn.model_selection import cross_validate\n",
    "from sklearn.feature_extraction.text import CountVectorizer\n",
    "from sklearn.feature_extraction.text import TfidfVectorizer\n",
    "from sklearn.linear_model import LogisticRegression\n",
    "from sklearn.ensemble import RandomForestClassifier \n",
    "from sklearn.neighbors import KNeighborsClassifier\n",
    "from sklearn.tree import DecisionTreeClassifier\n",
    "from sklearn.metrics import make_scorer, accuracy_score, precision_score, recall_score, f1_score\n",
    "\n"
   ]
  },
  {
   "cell_type": "code",
   "execution_count": 4,
   "metadata": {},
   "outputs": [
    {
     "data": {
      "text/plain": [
       "<AxesSubplot:>"
      ]
     },
     "execution_count": 4,
     "metadata": {},
     "output_type": "execute_result"
    },
    {
     "data": {
      "image/png": "[encoded data removed]",
      "text/plain": [
       "<Figure size 432x288 with 1 Axes>"
      ]
     },
     "metadata": {
      "needs_background": "light"
     },
     "output_type": "display_data"
    }
   ],
   "source": [
    "data_[\"rating\"].value_counts().plot.bar()"
   ]
  },
  {
   "cell_type": "code",
   "execution_count": 5,
   "metadata": {},
   "outputs": [],
   "source": [
    "x = data_['review']\n",
    "y = data_['rating']"
   ]
  },
  {
   "cell_type": "code",
   "execution_count": 6,
   "metadata": {},
   "outputs": [],
   "source": [
    "# Feature extractors.\n",
    "feature_extractors = [\n",
    "CountVectorizer(),\n",
    "TfidfVectorizer(),\n",
    "# Ignore words that appear in less than 20% of posts (rare words).\n",
    "CountVectorizer(min_df=0.2),\n",
    "# Ignore words that appear in more than 80% of posts (frequent words).\n",
    "CountVectorizer(max_df=0.8),\n",
    "CountVectorizer(ngram_range=(2, 2)),\n",
    "CountVectorizer(ngram_range=(3, 3)),\n",
    "TfidfVectorizer(min_df=0.2),\n",
    "TfidfVectorizer(max_df=0.8),\n",
    "TfidfVectorizer(ngram_range=(2, 2)),\n",
    "TfidfVectorizer(ngram_range=(3, 3))\n",
    "]\n",
    "\n",
    "# Classifiers.\n",
    "classifiers = [ \n",
    "# LinearSVC(max_iter=100000), \n",
    "# LogisticRegression(max_iter=100000),\n",
    "KNeighborsClassifier(),\n",
    "RandomForestClassifier(),\n",
    "DecisionTreeClassifier()\n",
    "]"
   ]
  },
  {
   "cell_type": "code",
   "execution_count": 7,
   "metadata": {},
   "outputs": [],
   "source": [
    "cv = StratifiedKFold(n_splits=5)\n",
    "\n",
    "scoring = {\n",
    "'f1_score': make_scorer(f1_score, average='weighted')\n",
    "}"
   ]
  },
  {
   "cell_type": "code",
   "execution_count": 8,
   "metadata": {},
   "outputs": [],
   "source": [
    "def start_ML_pipeline():\n",
    "   for classifier in classifiers:\n",
    "      for extractor in feature_extractors:\n",
    "         start_time = time.time()\n",
    "         pipeline = Pipeline([('extractor', extractor), ('classifier', classifier)])\n",
    "         scores = cross_validate(pipeline, x, y, cv=cv, scoring=scoring)\n",
    "         end_time = time.time()\n",
    "         total_time = round((end_time - start_time)/60, 2)\n",
    "         \n",
    "         f1_score = round(np.mean(scores['test_f1_score']), 2)\n",
    "         # precision = round(np.mean(scores['test_precision']), 2)\n",
    "         # recall = round(np.mean(scores['test_recall']), 2)\n",
    "         # acc = round(np.mean(scores['test_accuracy']), 2)\n",
    "\n",
    "         print(\"Time: \", total_time, \" min\")\n",
    "         print(\"Experiment: \", str(classifier), \"+\", str(extractor))\n",
    "         print(\"F1 score= \", f1_score, \", 5-fold CV=\", scores['test_f1_score'])\n",
    "         # print(\"Precision= \", precision, \", 5-fold CV=\", scores['test_precision'])\n",
    "         # print(\"Recall= \", recall, \", 5-fold CV=\", scores['test_recall'])\n",
    "         # print(\"Accuracy= \", acc, \", 5-fold CV=\", scores['test_accuracy'])\n",
    "         print(\"=\"*100)"
   ]
  },
  {
   "cell_type": "code",
   "execution_count": 9,
   "metadata": {},
   "outputs": [
    {
     "name": "stdout",
     "output_type": "stream",
     "text": [
      "Time:  2.4  min\n",
      "Experiment:  KNeighborsClassifier() + CountVectorizer()\n",
      "F1 score=  0.27 , 5-fold CV= [0.26361946 0.27027045 0.27048944 0.26197343 0.26152161]\n",
      "====================================================================================================\n",
      "Time:  2.6  min\n",
      "Experiment:  KNeighborsClassifier() + TfidfVectorizer()\n",
      "F1 score=  0.16 , 5-fold CV= [0.17726861 0.28946683 0.10340398 0.10638595 0.10489489]\n",
      "====================================================================================================\n",
      "Time:  2.26  min\n",
      "Experiment:  KNeighborsClassifier() + CountVectorizer(min_df=0.2)\n",
      "F1 score=  0.24 , 5-fold CV= [0.23805374 0.23830331 0.23372506 0.2402046  0.24440951]\n",
      "====================================================================================================\n",
      "Time:  2.65  min\n",
      "Experiment:  KNeighborsClassifier() + CountVectorizer(max_df=0.8)\n",
      "F1 score=  0.27 , 5-fold CV= [0.26912451 0.26814606 0.26581393 0.26476887 0.27014402]\n",
      "====================================================================================================\n",
      "Time:  1.57  min\n",
      "Experiment:  KNeighborsClassifier() + CountVectorizer(ngram_range=(2, 2))\n",
      "F1 score=  0.24 , 5-fold CV= [0.2388884  0.23059689 0.24783955 0.23495498 0.23797525]\n",
      "====================================================================================================\n",
      "Time:  1.5  min\n",
      "Experiment:  KNeighborsClassifier() + CountVectorizer(ngram_range=(3, 3))\n",
      "F1 score=  0.23 , 5-fold CV= [0.2336527  0.22406546 0.22824923 0.22160486 0.22679141]\n",
      "====================================================================================================\n",
      "Time:  2.21  min\n",
      "Experiment:  KNeighborsClassifier() + TfidfVectorizer(min_df=0.2)\n",
      "F1 score=  0.24 , 5-fold CV= [0.24640334 0.24558053 0.24534053 0.24259941 0.24086535]\n",
      "====================================================================================================\n",
      "Time:  2.47  min\n",
      "Experiment:  KNeighborsClassifier() + TfidfVectorizer(max_df=0.8)\n",
      "F1 score=  0.16 , 5-fold CV= [0.17884926 0.29001126 0.10514461 0.10585507 0.10489354]\n",
      "====================================================================================================\n",
      "Time:  1.63  min\n",
      "Experiment:  KNeighborsClassifier() + TfidfVectorizer(ngram_range=(2, 2))\n",
      "F1 score=  0.21 , 5-fold CV= [0.21735412 0.20767972 0.21778366 0.2162315  0.2133157 ]\n",
      "====================================================================================================\n",
      "Time:  1.52  min\n",
      "Experiment:  KNeighborsClassifier() + TfidfVectorizer(ngram_range=(3, 3))\n",
      "F1 score=  0.21 , 5-fold CV= [0.208916   0.21326098 0.2164775  0.21454079 0.22045654]\n",
      "====================================================================================================\n",
      "Time:  11.16  min\n",
      "Experiment:  RandomForestClassifier() + CountVectorizer()\n",
      "F1 score=  0.41 , 5-fold CV= [0.4092822  0.39937694 0.41523349 0.4057061  0.40846477]\n",
      "====================================================================================================\n",
      "Time:  10.57  min\n",
      "Experiment:  RandomForestClassifier() + TfidfVectorizer()\n",
      "F1 score=  0.41 , 5-fold CV= [0.40918846 0.40273217 0.4130944  0.40223219 0.40588046]\n",
      "====================================================================================================\n",
      "Time:  7.35  min\n",
      "Experiment:  RandomForestClassifier() + CountVectorizer(min_df=0.2)\n",
      "F1 score=  0.38 , 5-fold CV= [0.38314728 0.37825649 0.38747104 0.38288499 0.38697801]\n",
      "====================================================================================================\n",
      "Time:  11.42  min\n",
      "Experiment:  RandomForestClassifier() + CountVectorizer(max_df=0.8)\n",
      "F1 score=  0.41 , 5-fold CV= [0.4137411  0.40031848 0.41601788 0.40838104 0.40615286]\n",
      "====================================================================================================\n"
     ]
    }
   ],
   "source": [
    "start_ML_pipeline()"
   ]
  },
  {
   "cell_type": "code",
   "execution_count": null,
   "metadata": {},
   "outputs": [],
   "source": []
  }
 ],
 "metadata": {
  "interpreter": {
   "hash": "bc7067ad0587ee2533d0568fff1e23349b43564da49d2e99835e9871e4935780"
  },
  "kernelspec": {
   "display_name": "Python 3.8.12 ('pytorch')",
   "language": "python",
   "name": "python3"
  },
  "language_info": {
   "codemirror_mode": {
    "name": "ipython",
    "version": 3
   },
   "file_extension": ".py",
   "mimetype": "text/x-python",
   "name": "python",
   "nbconvert_exporter": "python",
   "pygments_lexer": "ipython3",
   "version": "3.8.12"
  },
  "orig_nbformat": 4
 },
 "nbformat": 4,
 "nbformat_minor": 2
}
