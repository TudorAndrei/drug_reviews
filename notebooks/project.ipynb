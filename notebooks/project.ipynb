{
 "cells": [
  {
   "cell_type": "code",
   "execution_count": 1,
   "metadata": {},
   "outputs": [],
   "source": [
    "import pandas as pd"
   ]
  },
  {
   "cell_type": "code",
   "execution_count": 7,
   "metadata": {},
   "outputs": [],
   "source": [
    "data = pd.read_csv(\"../data/raw/drugsComTrain_raw.tsv\", sep=\"\\t\").drop(\"Unnamed: 0\", axis=1)\n",
    "test = pd.read_csv(\"../data/raw/drugsComTest_raw.tsv\", sep=\"\\t\").drop(\"Unnamed: 0\", axis=1)"
   ]
  },
  {
   "cell_type": "code",
   "execution_count": 8,
   "metadata": {},
   "outputs": [],
   "source": [
    "data['review'] = data['review'].str.replace('&#039;',\"'\",)\n",
    "data['review'] = data['review'].str.replace('\"',\"\")\n",
    "test['review'] = test['review'].str.replace('&#039;',\"'\",)\n",
    "test['review'] = test['review'].str.replace('\"',\"\")"
   ]
  },
  {
   "cell_type": "code",
   "execution_count": 10,
   "metadata": {},
   "outputs": [],
   "source": [
    "data = data[data['condition'].str.contains(\"users found this comment helpful\") == False]\n",
    "test = test[test['condition'].str.contains(\"users found this comment helpful\") == False]"
   ]
  },
  {
   "cell_type": "code",
   "execution_count": 11,
   "metadata": {},
   "outputs": [],
   "source": [
    "data.to_csv(\"../data/drugs_train.csv\", index=False)\n",
    "test.to_csv(\"../data/drugs_test.csv\", index=False)"
   ]
  },
  {
   "cell_type": "code",
   "execution_count": 2,
   "metadata": {},
   "outputs": [],
   "source": [
    "data_ = pd.read_csv(\"../data/drugs_train.csv\")\n",
    "data_test = pd.read_csv(\"../data/drugs_test.csv\")"
   ]
  },
  {
   "cell_type": "markdown",
   "metadata": {},
   "source": [
    "# ML"
   ]
  },
  {
   "cell_type": "code",
   "execution_count": 3,
   "metadata": {},
   "outputs": [],
   "source": [
    "import time\n",
    "import pandas as pd\n",
    "import numpy as np\n",
    "from sklearn.svm import LinearSVC\n",
    "from sklearn.pipeline import Pipeline\n",
    "from sklearn.model_selection import StratifiedKFold\n",
    "from sklearn.model_selection import cross_validate\n",
    "from sklearn.feature_extraction.text import CountVectorizer\n",
    "from sklearn.feature_extraction.text import TfidfVectorizer\n",
    "from sklearn.linear_model import LogisticRegression\n",
    "from sklearn.ensemble import RandomForestClassifier \n",
    "from sklearn.neighbors import KNeighborsClassifier\n",
    "from sklearn.tree import DecisionTreeClassifier\n",
    "from sklearn.metrics import classification_report\n",
    "from sklearn.metrics import make_scorer, accuracy_score, precision_score, recall_score, f1_score\n",
    "\n"
   ]
  },
  {
   "cell_type": "code",
   "execution_count": 4,
   "metadata": {},
   "outputs": [
    {
     "data": {
      "text/plain": [
       "<AxesSubplot:>"
      ]
     },
     "execution_count": 4,
     "metadata": {},
     "output_type": "execute_result"
    },
    {
     "data": {
      "image/png": "[encoded data removed]",
      "text/plain": [
       "<Figure size 432x288 with 1 Axes>"
      ]
     },
     "metadata": {
      "needs_background": "light"
     },
     "output_type": "display_data"
    }
   ],
   "source": [
    "data_[\"rating\"].value_counts().plot.bar()"
   ]
  },
  {
   "cell_type": "code",
   "execution_count": 5,
   "metadata": {},
   "outputs": [],
   "source": [
    "x = data_['review']\n",
    "y = data_['rating']\n",
    "x_test = data_test['review']\n",
    "y_test = data_test['rating']"
   ]
  },
  {
   "cell_type": "code",
   "execution_count": 14,
   "metadata": {},
   "outputs": [],
   "source": [
    "# Feature extractors.\n",
    "feature_extractors = [\n",
    "# CountVectorizer(),\n",
    "# TfidfVectorizer(),\n",
    "# Ignore words that appear in less than 20% of posts (rare words).\n",
    "# CountVectorizer(min_df=0.2),\n",
    "# Ignore words that appear in more than 80% of posts (frequent words).\n",
    "# CountVectorizer(max_df=0.8),\n",
    "# CountVectorizer(ngram_range=(2, 2)),\n",
    "# CountVectorizer(ngram_range=(3, 3)),\n",
    "# TfidfVectorizer(min_df=0.2),\n",
    "# TfidfVectorizer(max_df=0.8),\n",
    "TfidfVectorizer(ngram_range=(1,2), max_features=100),\n",
    "# TfidfVectorizer(ngram_range=(3, 3))\n",
    "]\n",
    "\n",
    "# Classifiers.\n",
    "classifiers = [ \n",
    "# LinearSVC(max_iter=1000), \n",
    "# LogisticRegression(max_iter=1000),\n",
    "# KNeighborsClassifier(),\n",
    "RandomForestClassifier(n_jobs=-1),\n",
    "# DecisionTreeClassifier()\n",
    "]"
   ]
  },
  {
   "cell_type": "code",
   "execution_count": 15,
   "metadata": {},
   "outputs": [],
   "source": [
    "cv = StratifiedKFold(n_splits=5)\n",
    "\n",
    "scoring = {\n",
    "'f1_score': make_scorer(f1_score, average='weighted')\n",
    "}"
   ]
  },
  {
   "cell_type": "code",
   "execution_count": 16,
   "metadata": {},
   "outputs": [],
   "source": [
    "def start_ML_pipeline():\n",
    "   for classifier in classifiers:\n",
    "      for extractor in feature_extractors:\n",
    "         start_time = time.time()\n",
    "         pipeline = Pipeline([('extractor', extractor), ('classifier', classifier)])\n",
    "         scores = cross_validate(pipeline, x, y, cv=cv, scoring=scoring)\n",
    "         end_time = time.time()\n",
    "         total_time = round((end_time - start_time)/60, 2)\n",
    "\n",
    "\n",
    "         f1_score = round(np.mean(scores['test_f1_score']), 2)\n",
    "\n",
    "         print(\"Time: \", total_time, \" min\")\n",
    "         print(\"Experiment: \", str(classifier), \"+\", str(extractor))\n",
    "         print(\"F1 score= \", f1_score, \", 5-fold CV=\", scores['test_f1_score'])\n",
    "         print(\"=\"*100)"
   ]
  },
  {
   "cell_type": "markdown",
   "metadata": {},
   "source": [
    "## Simple ML Approach\n"
   ]
  },
  {
   "cell_type": "code",
   "execution_count": 22,
   "metadata": {},
   "outputs": [
    {
     "data": {
      "text/plain": [
       "Pipeline(steps=[('extractor',\n",
       "                 TfidfVectorizer(max_features=100, ngram_range=(1, 2))),\n",
       "                ('classifier', RandomForestClassifier(n_jobs=-1))])"
      ]
     },
     "execution_count": 22,
     "metadata": {},
     "output_type": "execute_result"
    }
   ],
   "source": [
    "pipeline2 = Pipeline([('extractor', TfidfVectorizer(ngram_range=(1,2), max_features=100),), ('classifier', RandomForestClassifier(n_jobs=-1),)])\n",
    "pipeline2.fit(x, y)"
   ]
  },
  {
   "cell_type": "code",
   "execution_count": 23,
   "metadata": {},
   "outputs": [
    {
     "name": "stdout",
     "output_type": "stream",
     "text": [
      "              precision    recall  f1-score   support\n",
      "\n",
      "         1.0       0.96      0.96      0.96     21391\n",
      "         2.0       0.99      0.95      0.97      6833\n",
      "         3.0       0.99      0.96      0.97      6422\n",
      "         4.0       0.99      0.95      0.97      4942\n",
      "         5.0       0.99      0.96      0.98      7907\n",
      "         6.0       0.99      0.95      0.97      6254\n",
      "         7.0       0.99      0.95      0.97      9338\n",
      "         8.0       0.99      0.95      0.97     18688\n",
      "         9.0       0.98      0.95      0.97     27219\n",
      "        10.0       0.93      0.99      0.96     50504\n",
      "\n",
      "    accuracy                           0.97    159498\n",
      "   macro avg       0.98      0.96      0.97    159498\n",
      "weighted avg       0.97      0.97      0.97    159498\n",
      "\n",
      "              precision    recall  f1-score   support\n",
      "\n",
      "         1.0       0.67      0.72      0.69      7230\n",
      "         2.0       0.95      0.61      0.75      2308\n",
      "         3.0       0.97      0.60      0.74      2185\n",
      "         4.0       0.97      0.60      0.74      1632\n",
      "         5.0       0.95      0.58      0.72      2672\n",
      "         6.0       0.97      0.57      0.71      2090\n",
      "         7.0       0.95      0.56      0.71      3056\n",
      "         8.0       0.86      0.59      0.70      6087\n",
      "         9.0       0.76      0.60      0.67      9072\n",
      "        10.0       0.60      0.92      0.73     16868\n",
      "\n",
      "    accuracy                           0.71     53200\n",
      "   macro avg       0.87      0.63      0.72     53200\n",
      "weighted avg       0.76      0.71      0.71     53200\n",
      "\n"
     ]
    }
   ],
   "source": [
    "y_pred = pipeline.predict(x)\n",
    "print(classification_report(y, y_pred))\n",
    "y_pred = pipeline.predict(x_test)\n",
    "print(classification_report(y_test, y_pred))"
   ]
  },
  {
   "cell_type": "code",
   "execution_count": null,
   "metadata": {},
   "outputs": [],
   "source": []
  }
 ],
 "metadata": {
  "interpreter": {
   "hash": "bc7067ad0587ee2533d0568fff1e23349b43564da49d2e99835e9871e4935780"
  },
  "kernelspec": {
   "display_name": "Python 3.8.12 ('pytorch')",
   "language": "python",
   "name": "python3"
  },
  "language_info": {
   "codemirror_mode": {
    "name": "ipython",
    "version": 3
   },
   "file_extension": ".py",
   "mimetype": "text/x-python",
   "name": "python",
   "nbconvert_exporter": "python",
   "pygments_lexer": "ipython3",
   "version": "3.8.12"
  },
  "orig_nbformat": 4
 },
 "nbformat": 4,
 "nbformat_minor": 2
}
